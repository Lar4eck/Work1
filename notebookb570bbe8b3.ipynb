{
 "cells": [
  {
   "cell_type": "code",
   "execution_count": 1,
   "id": "e77a8ea1",
   "metadata": {
    "_cell_guid": "b1076dfc-b9ad-4769-8c92-a6c4dae69d19",
    "_uuid": "8f2839f25d086af736a60e9eeb907d3b93b6e0e5",
    "execution": {
     "iopub.execute_input": "2025-02-18T19:29:04.801739Z",
     "iopub.status.busy": "2025-02-18T19:29:04.801420Z",
     "iopub.status.idle": "2025-02-18T19:29:05.579238Z",
     "shell.execute_reply": "2025-02-18T19:29:05.578450Z"
    },
    "papermill": {
     "duration": 0.782394,
     "end_time": "2025-02-18T19:29:05.580844",
     "exception": false,
     "start_time": "2025-02-18T19:29:04.798450",
     "status": "completed"
    },
    "tags": []
   },
   "outputs": [],
   "source": [
    "import matplotlib.pyplot as plt\n",
    "import pandas as pd"
   ]
  },
  {
   "cell_type": "code",
   "execution_count": 2,
   "id": "7e1acf8d",
   "metadata": {
    "execution": {
     "iopub.execute_input": "2025-02-18T19:29:05.584950Z",
     "iopub.status.busy": "2025-02-18T19:29:05.584602Z",
     "iopub.status.idle": "2025-02-18T19:29:05.794627Z",
     "shell.execute_reply": "2025-02-18T19:29:05.793869Z"
    },
    "papermill": {
     "duration": 0.213547,
     "end_time": "2025-02-18T19:29:05.796268",
     "exception": false,
     "start_time": "2025-02-18T19:29:05.582721",
     "status": "completed"
    },
    "tags": []
   },
   "outputs": [],
   "source": [
    "data = pd.read_excel(\"/kaggle/input/dataset-z/2025-02-18 20-32-33.xls\")"
   ]
  },
  {
   "cell_type": "code",
   "execution_count": 3,
   "id": "3f692939",
   "metadata": {
    "execution": {
     "iopub.execute_input": "2025-02-18T19:29:05.800266Z",
     "iopub.status.busy": "2025-02-18T19:29:05.799945Z",
     "iopub.status.idle": "2025-02-18T19:29:05.876629Z",
     "shell.execute_reply": "2025-02-18T19:29:05.875946Z"
    },
    "papermill": {
     "duration": 0.079976,
     "end_time": "2025-02-18T19:29:05.877869",
     "exception": false,
     "start_time": "2025-02-18T19:29:05.797893",
     "status": "completed"
    },
    "tags": []
   },
   "outputs": [
    {
     "data": {
      "text/html": [
       "<div>\n",
       "<style scoped>\n",
       "    .dataframe tbody tr th:only-of-type {\n",
       "        vertical-align: middle;\n",
       "    }\n",
       "\n",
       "    .dataframe tbody tr th {\n",
       "        vertical-align: top;\n",
       "    }\n",
       "\n",
       "    .dataframe thead th {\n",
       "        text-align: right;\n",
       "    }\n",
       "</style>\n",
       "<table border=\"1\" class=\"dataframe\">\n",
       "  <thead>\n",
       "    <tr style=\"text-align: right;\">\n",
       "      <th></th>\n",
       "      <th>Time (s)</th>\n",
       "      <th>Gyroscope x (rad/s)</th>\n",
       "      <th>Gyroscope y (rad/s)</th>\n",
       "      <th>Gyroscope z (rad/s)</th>\n",
       "      <th>Absolute (rad/s)</th>\n",
       "    </tr>\n",
       "  </thead>\n",
       "  <tbody>\n",
       "    <tr>\n",
       "      <th>0</th>\n",
       "      <td>0.093083</td>\n",
       "      <td>0.083230</td>\n",
       "      <td>0.016341</td>\n",
       "      <td>-0.036041</td>\n",
       "      <td>0.092159</td>\n",
       "    </tr>\n",
       "    <tr>\n",
       "      <th>1</th>\n",
       "      <td>0.095470</td>\n",
       "      <td>0.057269</td>\n",
       "      <td>0.011148</td>\n",
       "      <td>-0.024740</td>\n",
       "      <td>0.063372</td>\n",
       "    </tr>\n",
       "    <tr>\n",
       "      <th>2</th>\n",
       "      <td>0.097857</td>\n",
       "      <td>0.039095</td>\n",
       "      <td>0.007636</td>\n",
       "      <td>-0.017257</td>\n",
       "      <td>0.043411</td>\n",
       "    </tr>\n",
       "    <tr>\n",
       "      <th>3</th>\n",
       "      <td>0.100243</td>\n",
       "      <td>0.026573</td>\n",
       "      <td>0.005192</td>\n",
       "      <td>-0.012675</td>\n",
       "      <td>0.029895</td>\n",
       "    </tr>\n",
       "    <tr>\n",
       "      <th>4</th>\n",
       "      <td>0.102630</td>\n",
       "      <td>0.017868</td>\n",
       "      <td>0.003512</td>\n",
       "      <td>-0.009010</td>\n",
       "      <td>0.020317</td>\n",
       "    </tr>\n",
       "    <tr>\n",
       "      <th>...</th>\n",
       "      <td>...</td>\n",
       "      <td>...</td>\n",
       "      <td>...</td>\n",
       "      <td>...</td>\n",
       "      <td>...</td>\n",
       "    </tr>\n",
       "    <tr>\n",
       "      <th>12584</th>\n",
       "      <td>30.249899</td>\n",
       "      <td>-0.001069</td>\n",
       "      <td>-0.000153</td>\n",
       "      <td>0.000153</td>\n",
       "      <td>0.001091</td>\n",
       "    </tr>\n",
       "    <tr>\n",
       "      <th>12585</th>\n",
       "      <td>30.252286</td>\n",
       "      <td>0.000153</td>\n",
       "      <td>0.001069</td>\n",
       "      <td>-0.001069</td>\n",
       "      <td>0.001520</td>\n",
       "    </tr>\n",
       "    <tr>\n",
       "      <th>12586</th>\n",
       "      <td>30.254672</td>\n",
       "      <td>0.000153</td>\n",
       "      <td>-0.000153</td>\n",
       "      <td>0.000153</td>\n",
       "      <td>0.000265</td>\n",
       "    </tr>\n",
       "    <tr>\n",
       "      <th>12587</th>\n",
       "      <td>30.257059</td>\n",
       "      <td>-0.001069</td>\n",
       "      <td>-0.000153</td>\n",
       "      <td>0.000153</td>\n",
       "      <td>0.001091</td>\n",
       "    </tr>\n",
       "    <tr>\n",
       "      <th>12588</th>\n",
       "      <td>30.259445</td>\n",
       "      <td>0.000153</td>\n",
       "      <td>-0.001374</td>\n",
       "      <td>0.000153</td>\n",
       "      <td>0.001391</td>\n",
       "    </tr>\n",
       "  </tbody>\n",
       "</table>\n",
       "<p>12589 rows × 5 columns</p>\n",
       "</div>"
      ],
      "text/plain": [
       "        Time (s)  Gyroscope x (rad/s)  Gyroscope y (rad/s)  \\\n",
       "0       0.093083             0.083230             0.016341   \n",
       "1       0.095470             0.057269             0.011148   \n",
       "2       0.097857             0.039095             0.007636   \n",
       "3       0.100243             0.026573             0.005192   \n",
       "4       0.102630             0.017868             0.003512   \n",
       "...          ...                  ...                  ...   \n",
       "12584  30.249899            -0.001069            -0.000153   \n",
       "12585  30.252286             0.000153             0.001069   \n",
       "12586  30.254672             0.000153            -0.000153   \n",
       "12587  30.257059            -0.001069            -0.000153   \n",
       "12588  30.259445             0.000153            -0.001374   \n",
       "\n",
       "       Gyroscope z (rad/s)  Absolute (rad/s)  \n",
       "0                -0.036041          0.092159  \n",
       "1                -0.024740          0.063372  \n",
       "2                -0.017257          0.043411  \n",
       "3                -0.012675          0.029895  \n",
       "4                -0.009010          0.020317  \n",
       "...                    ...               ...  \n",
       "12584             0.000153          0.001091  \n",
       "12585            -0.001069          0.001520  \n",
       "12586             0.000153          0.000265  \n",
       "12587             0.000153          0.001091  \n",
       "12588             0.000153          0.001391  \n",
       "\n",
       "[12589 rows x 5 columns]"
      ]
     },
     "execution_count": 3,
     "metadata": {},
     "output_type": "execute_result"
    }
   ],
   "source": [
    "data"
   ]
  },
  {
   "cell_type": "code",
   "execution_count": 4,
   "id": "0dc42003",
   "metadata": {
    "execution": {
     "iopub.execute_input": "2025-02-18T19:29:05.881818Z",
     "iopub.status.busy": "2025-02-18T19:29:05.881597Z",
     "iopub.status.idle": "2025-02-18T19:29:06.114289Z",
     "shell.execute_reply": "2025-02-18T19:29:06.113022Z"
    },
    "papermill": {
     "duration": 0.236015,
     "end_time": "2025-02-18T19:29:06.115658",
     "exception": false,
     "start_time": "2025-02-18T19:29:05.879643",
     "status": "completed"
    },
    "tags": []
   },
   "outputs": [
    {
     "data": {
      "image/png": "[encoded data removed]",
      "text/plain": [
       "<Figure size 640x480 with 1 Axes>"
      ]
     },
     "metadata": {},
     "output_type": "display_data"
    }
   ],
   "source": [
    "plt.plot(data[\"Time (s)\"], data['Gyroscope x (rad/s)'])\n",
    "plt.plot(data[\"Time (s)\"], data['Gyroscope y (rad/s)'])\n",
    "plt.plot(data[\"Time (s)\"], data['Gyroscope z (rad/s)'])\n",
    "plt.grid()\n",
    "plt.legend(['Gyroscope x (rad/s)','Gyroscope y (rad/s)', 'Gyroscope z (rad/s)'])\n",
    "plt.show()"
   ]
  },
  {
   "cell_type": "code",
   "execution_count": null,
   "id": "f693ace4",
   "metadata": {
    "papermill": {
     "duration": 0.001895,
     "end_time": "2025-02-18T19:29:06.119988",
     "exception": false,
     "start_time": "2025-02-18T19:29:06.118093",
     "status": "completed"
    },
    "tags": []
   },
   "outputs": [],
   "source": []
  }
 ],
 "metadata": {
  "kaggle": {
   "accelerator": "none",
   "dataSources": [
    {
     "datasetId": 6693587,
     "sourceId": 10786335,
     "sourceType": "datasetVersion"
    }
   ],
   "dockerImageVersionId": 30886,
   "isGpuEnabled": false,
   "isInternetEnabled": false,
   "language": "python",
   "sourceType": "notebook"
  },
  "kernelspec": {
   "display_name": "Python 3",
   "language": "python",
   "name": "python3"
  },
  "language_info": {
   "codemirror_mode": {
    "name": "ipython",
    "version": 3
   },
   "file_extension": ".py",
   "mimetype": "text/x-python",
   "name": "python",
   "nbconvert_exporter": "python",
   "pygments_lexer": "ipython3",
   "version": "3.10.12"
  },
  "papermill": {
   "default_parameters": {},
   "duration": 4.438389,
   "end_time": "2025-02-18T19:29:06.640618",
   "environment_variables": {},
   "exception": null,
   "input_path": "__notebook__.ipynb",
   "output_path": "__notebook__.ipynb",
   "parameters": {},
   "start_time": "2025-02-18T19:29:02.202229",
   "version": "2.6.0"
  }
 },
 "nbformat": 4,
 "nbformat_minor": 5
}
